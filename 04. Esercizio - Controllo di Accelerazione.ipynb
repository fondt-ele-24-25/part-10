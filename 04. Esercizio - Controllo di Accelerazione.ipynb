{
 "cells": [
  {
   "cell_type": "markdown",
   "metadata": {
    "slideshow": {
     "slide_type": "-"
    }
   },
   "source": [
    "# Esercizio: Controllo di Accelarazione"
   ]
  },
  {
   "cell_type": "markdown",
   "metadata": {
    "slideshow": {
     "slide_type": "-"
    }
   },
   "source": [
    "## Contesto\n",
    "\n",
    "__Si vuole controllare l'accelerazione di un carrello automatico__\n",
    "\n",
    "Il profilo di velocità in accelerazione deve presentarsi come segue:\n",
    "\n",
    "<center>\n",
    "<img src=\"assets/acceleration.png\" width=\"40%\"/>\n",
    "</center>\n",
    "\n",
    "* La coordinata $t$ rappresenta il tempo\n",
    "* La coordinata $v$ rappresenta la velocità\n",
    "\n",
    "Curve di questo tipo si utilizzano nelle centraline di controllo di auto e moto"
   ]
  },
  {
   "cell_type": "markdown",
   "metadata": {
    "slideshow": {
     "slide_type": "-"
    }
   },
   "source": [
    "**La sezione deve essere descritta da un polinomio di grado 3**\n",
    "\n",
    "...Quindi da una curva del tipo:\n",
    "\n",
    "$$\n",
    "f(x) = \\alpha_3 t^3 + \\alpha_2 t^2 + \\alpha_1 t + \\alpha_0\n",
    "$$\n",
    "\n",
    "**La velocità iniziale è nota, quindi:**\n",
    "\n",
    "$$\n",
    "\\alpha_3 t_0^3 + \\alpha_2 t_0^2 + \\alpha_1 t_0 + \\alpha_0 = v_0\n",
    "$$\n",
    "\n",
    "**La velocità finale (i.e. al tempo $t_1$) è anch'essa nota, quindi:**\n",
    "\n",
    "$$\n",
    "\\alpha_3 t_1^3 + \\alpha_2 t_1^2 + \\alpha_1 t_1 + \\alpha_0 = v_1\n",
    "$$\n",
    "\n",
    "**Perché le variazioni non siano troppo brusca...**\n",
    "\n",
    "* ...Si richiede che la derivata della velocità in $t_0$ e $t_1$ sia nulla\n",
    "* Nel nostro caso abbiamo che:\n",
    "\n",
    "$$\\begin{align}\n",
    "3 \\alpha_3 t_0^2 + 2 \\alpha_2 t_0 + \\alpha_1 &= 0 \\\\\n",
    "3 \\alpha_3 t_1^2 + 2 \\alpha_2 t_1 + \\alpha_1 &= 0\n",
    "\\end{align}$$"
   ]
  },
  {
   "cell_type": "markdown",
   "metadata": {},
   "source": [
    "## Formulazione del Sistema\n",
    "\n",
    "**Si formuli il problema di progettazione della curva**\n",
    "\n",
    "...Mediante una sistema di equazioni lineari\n",
    "\n",
    "* Si derivi quindi la sua formulazione matriciale"
   ]
  },
  {
   "cell_type": "markdown",
   "metadata": {},
   "source": []
  },
  {
   "cell_type": "markdown",
   "metadata": {
    "slideshow": {
     "slide_type": "-"
    }
   },
   "source": [
    "## Derivazione dei Coefficienti\n",
    "\n",
    "**Nel modulo `sol.acceleration`, si definisca la funzione:**\n",
    "\n",
    "```python\n",
    "def fit_curve(t0, t1, v0, v1)\n",
    "```\n",
    "\n",
    "* Che restituisca le variabili necessarie a rappresentare i coefficienti\n",
    "\n",
    "**Si collaudi la funzione nella cella seguente, utilizzando i valori suggeriti**"
   ]
  },
  {
   "cell_type": "code",
   "execution_count": 1,
   "metadata": {},
   "outputs": [],
   "source": [
    "%load_ext autoreload\n",
    "%autoreload 2\n",
    "\n",
    "# Dati del problema\n",
    "t0, t1 = 0, 3\n",
    "v0, v1 = 0, 5.5"
   ]
  },
  {
   "cell_type": "markdown",
   "metadata": {
    "slideshow": {
     "slide_type": "-"
    }
   },
   "source": [
    "## Disegnare la Curva\n",
    "\n",
    "**Nel modulo `sol.acceleration`, si definisca la funzione:**\n",
    "\n",
    "```python\n",
    "def draw_curve(alpha_3, alpha_2, alpha_1, alpha_0, t0, t1)\n",
    "```\n",
    "\n",
    "* Che disegni la curva\n",
    "* ...E che mostra come fossere necessari 4 coefficienti\n",
    "\n",
    "**Nella cella seguente si scriva una soluzione completa del problema**\n",
    "\n",
    "* Si ottengano i coefficienti della curva\n",
    "* ...E si proceda a disegnarla"
   ]
  },
  {
   "cell_type": "code",
   "execution_count": 2,
   "metadata": {},
   "outputs": [
    {
     "name": "stdout",
     "output_type": "stream",
     "text": [
      "The autoreload extension is already loaded. To reload it, use:\n",
      "  %reload_ext autoreload\n"
     ]
    }
   ],
   "source": [
    "%load_ext autoreload\n",
    "%autoreload 2\n",
    "\n",
    "# Dati del problema\n",
    "t0, t1 = 0, 3\n",
    "v0, v1 = 0, 5.5"
   ]
  }
 ],
 "metadata": {
  "celltoolbar": "Slideshow",
  "kernelspec": {
   "display_name": "Python 3 (ipykernel)",
   "language": "python",
   "name": "python3"
  },
  "language_info": {
   "codemirror_mode": {
    "name": "ipython",
    "version": 3
   },
   "file_extension": ".py",
   "mimetype": "text/x-python",
   "name": "python",
   "nbconvert_exporter": "python",
   "pygments_lexer": "ipython3",
   "version": "3.11.11"
  },
  "rise": {
   "center": false,
   "enable_chalkboard": true,
   "transition": "fade"
  }
 },
 "nbformat": 4,
 "nbformat_minor": 4
}
