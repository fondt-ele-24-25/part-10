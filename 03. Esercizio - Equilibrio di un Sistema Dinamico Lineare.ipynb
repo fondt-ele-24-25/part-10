{
 "cells": [
  {
   "cell_type": "markdown",
   "metadata": {
    "slideshow": {
     "slide_type": "-"
    }
   },
   "source": [
    "# Esercizio: Equilibrio di un Sistema Dinamico Lineare"
   ]
  },
  {
   "cell_type": "markdown",
   "metadata": {
    "slideshow": {
     "slide_type": "-"
    }
   },
   "source": [
    "## Contesto\n",
    "\n",
    "**Consideriamo una variante di un modello già visto**\n",
    "\n",
    "In particolare il sistema dinamico discreto che abbiamo usato come esempio\n",
    "\n",
    "$$\\begin{align}\n",
    "v_{k+1} &= v_k + r_v (c_k - p v_k) \\\\\n",
    "c_{k+1} &= r_c c_k - p v_k + a_c\n",
    "\\end{align}$$\n",
    "\n",
    "Dove:\n",
    "\n",
    "* $v_k$ è il numero di volpi al tempo $k$\n",
    "* $c_k$ è il numero di conigli al tempo $k$\n",
    "* $r_c$ è il tasso di riproduzione dei conigli\n",
    "* $p$ è il tasso di predazione delle volpi sui conigli\n",
    "* $r_v$ è l'impatto della abbondanza/scarsità di conigli sulle volpi\n",
    "* $a_c$ è il numero di conigli in arrivo da località limitrofe"
   ]
  },
  {
   "cell_type": "markdown",
   "metadata": {},
   "source": [
    "## Equilibri di Sistemi Dinamici Discreti\n",
    "\n",
    "**Supponiamo di essere interessati ai _punti di equilibrio_ del sistema**\n",
    "\n",
    "* In particolare, un punto di equilibrio è uno _stato del sistema_\n",
    "* ...Che rimane _stabile nel tempo_\n",
    "\n",
    "I punti di equilibrio sono interessanti per diverse ragioni:\n",
    "\n",
    "* Possono rappresentare il termine di una evoluzione\n",
    "* Possono rappresentare condizioni da evitare\n",
    "* Possono essere stabile o instabili...\n",
    "\n",
    "**In generale, dato un sistema dinamico _discreto_ nella forma**\n",
    "\n",
    "$$\n",
    "x_{k+1} = f(x_k, k)\n",
    "$$\n",
    "\n",
    "...Possiamo identificare una proprietà chiave di un punto di equilibrio\n",
    "\n",
    "* Se $x_k$ è un punto di equilibrio, allora...\n",
    "* ...Applicando la funzione di trasizione $f$ dovremmo ottenere ancora $x_k$\n",
    "\n",
    "**In pratica, ogni punto di equilibrio $x$ deve soddisfare l'equazione:**\n",
    "\n",
    "$$\n",
    "x = f(x, k)\n",
    "$$\n",
    "\n",
    "* L'uguaglianza si ottiene _assumendo che $x_k$ e $x_{k+1}$ siano lo stesso stato_\n",
    "* Se lo stato è vettoriale, anche l'equazione sarà vettoriale (i.e. un sistema di equazioni)"
   ]
  },
  {
   "cell_type": "markdown",
   "metadata": {},
   "source": [
    "## Condizioni di Equilibrio\n",
    "\n",
    "**Si proceda a formulare l'equazione:**\n",
    "\n",
    "$$\n",
    "x = f(x, k)\n",
    "$$\n",
    "\n",
    "...Per l'esempio delle volpi e dei conigli\n",
    "\n",
    "* Si proceda assumendo che $v_{k+1} = v_{k} = v$ e $c_{k+1} = c_{k} = c$\n",
    "* Il risultato sarà un _sistema di equazioni lineari_\n",
    "* ...In cui le incognite sono $v$ e $c$\n",
    "\n",
    "Si determini quindi la formulazione matriciale del sistema"
   ]
  },
  {
   "cell_type": "markdown",
   "metadata": {
    "slideshow": {
     "slide_type": "-"
    }
   },
   "source": [
    "## Determinazione del Punto di Equilibrio\n",
    "\n",
    "**Le condizioni di equilibrio per il nostro sistema dinamico**\n",
    "\n",
    "...Corrispondono ad un sistema lineare di due equazioni in due incognite\n",
    "\n",
    "* Risolvendo il sistema\n",
    "* ...Possiamo quindi determinarne l'unico punto di equilibrio\n",
    "\n",
    "**Nel modulo `sol.vc`, si definisca la funzione:**\n",
    "\n",
    "```python\n",
    "def equilibrium(rv=1.05, rc=1.5, p=2, ac=0.5)\n",
    "```\n",
    "\n",
    "* Che restituisca due valori `v, c`\n",
    "* ...Corrispondenti ai valori delle popolazioni all'equilibrio\n",
    "\n",
    "**Si collaudi la classe nella cella seguente, utilizzando per i parametri i valori di default**"
   ]
  },
  {
   "cell_type": "code",
   "execution_count": null,
   "metadata": {},
   "outputs": [],
   "source": []
  },
  {
   "cell_type": "markdown",
   "metadata": {
    "slideshow": {
     "slide_type": "subslide"
    }
   },
   "source": [
    "## Effetto di Alcuni  Parametri\n",
    "\n",
    "**Nella cella seguente si investighi l'effetto dei parametri $r_c$ e $p$**\n",
    "\n",
    "Si utilizzino due cicli innestati per considerare le seguenti combinazioni:\n",
    "\n",
    "* Valori di $r_c$ nell'intervallo $[1, 1.75]$\n",
    "* Valori di $p$ nell'intervallo $[2, 3]$"
   ]
  },
  {
   "cell_type": "code",
   "execution_count": null,
   "metadata": {},
   "outputs": [],
   "source": []
  }
 ],
 "metadata": {
  "celltoolbar": "Slideshow",
  "kernelspec": {
   "display_name": "Python 3 (ipykernel)",
   "language": "python",
   "name": "python3"
  },
  "language_info": {
   "codemirror_mode": {
    "name": "ipython",
    "version": 3
   },
   "file_extension": ".py",
   "mimetype": "text/x-python",
   "name": "python",
   "nbconvert_exporter": "python",
   "pygments_lexer": "ipython3",
   "version": "3.11.11"
  },
  "rise": {
   "center": false,
   "enable_chalkboard": true,
   "transition": "fade"
  }
 },
 "nbformat": 4,
 "nbformat_minor": 4
}
