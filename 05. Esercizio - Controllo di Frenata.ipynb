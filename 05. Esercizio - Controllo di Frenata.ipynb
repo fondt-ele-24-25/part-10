{
 "cells": [
  {
   "cell_type": "markdown",
   "metadata": {},
   "source": [
    "# Esercizio: Controllo di Frenata"
   ]
  },
  {
   "cell_type": "markdown",
   "metadata": {
    "slideshow": {
     "slide_type": "-"
    }
   },
   "source": [
    "## Contesto\n",
    "\n",
    "__Si vuole controllare l'arresto di un carrello automatico__\n",
    "\n",
    "Il profilo di velocità in frenata deve presentarsi come segue:\n",
    "\n",
    "<center>\n",
    "<img src=\"assets/brake.png\" width=\"35%\"/>\n",
    "</center>\n",
    "\n",
    "* La coordinata $t$ rappresenta il tempo\n",
    "* La coordinata $v$ rappresenta la velocità\n",
    "\n",
    "Possiamo usare la curva per programmare una centralina di controllo"
   ]
  },
  {
   "cell_type": "markdown",
   "metadata": {
    "slideshow": {
     "slide_type": "-"
    }
   },
   "source": [
    "**La sezione deve essere descritta da un polinomio di grado 3**\n",
    "\n",
    "...Quindi da una curva del tipo:\n",
    "\n",
    "$$\n",
    "f(x) = \\alpha_3 t^3 + \\alpha_2 t^2 + \\alpha_1 t + \\alpha_0\n",
    "$$\n",
    "\n",
    "\n",
    "**La velocità iniziale e finale ed il tempo di frenata $t_1$ sono noti**\n",
    "\n",
    "...Quindi possiamo formulare le condizioni:\n",
    "\n",
    "$$\\begin{align}\n",
    "\\alpha_3 t_0^3 + \\alpha_2 t_0^2 + \\alpha_1 t_0 + \\alpha_0 = v_0 \\\\\n",
    "\\alpha_3 t_1^3 + \\alpha_2 t_1^2 + \\alpha_1 t_1 + \\alpha_0 = v_1 \\\\\n",
    "\\end{align}$$\n",
    "\n",
    "\n",
    "**Si richiede che la derivata della velocità in $t_1$ sia nulla**\n",
    "\n",
    "...Quindi abbiamo che:\n",
    "\n",
    "$$\n",
    "3 \\alpha_3 t_1^2 + 2 \\alpha_2 t_1 + \\alpha_1 = 0\n",
    "$$\n",
    "\n",
    "\n",
    "**Lo _spazio di frenata $S$_ deve essere pari ad un valore $s_1$**\n",
    "\n",
    "* Poiché la nostra curva rappresenta un profilo di velocità\n",
    "* ...Lo spazio di frenata è dato dal suo integrale:\n",
    "\n",
    "$$S = \\int_{t_0}^{t_1} f(t) \\, dt$$\n",
    "\n",
    "Nel nostro caso, possiamo formulare la condizione:\n",
    "\n",
    "$$\n",
    "\\left[ \\alpha_3 \\frac{1}{4} t^4 + \\alpha_2 \\frac{1}{3} t^3 + \\alpha_1 \\frac{1}{2} t^2 + \\alpha_0 t + C \\right]_{t_0}^{t^1} = s_1\n",
    "$$\n",
    "\n",
    "* Si noti che la costante $C$ è ininfluente per il calcolo dell'integrale definito"
   ]
  },
  {
   "cell_type": "markdown",
   "metadata": {},
   "source": [
    "## Formulazione del Sistema\n",
    "\n",
    "**Si formuli il problema di progettazione della curva**\n",
    "\n",
    "...Mediante una sistema di equazioni lineari\n",
    "\n",
    "* Si derivi quindi la sua formulazione matriciale"
   ]
  },
  {
   "cell_type": "markdown",
   "metadata": {},
   "source": [
    "Raccogliendo tutte le condizioni in un'unico sistema si ottiene:\n",
    "\n",
    "$$\\begin{align}\n",
    "\\alpha_3 t_0^3 + \\alpha_2 t_0^2 + \\alpha_1 t_0 + \\alpha_0 & = v_0 \\\\\n",
    "\\alpha_3 t_1^3 + \\alpha_2 t_1^2 + \\alpha_1 t_1 + \\alpha_0 & = v_1 \\\\\n",
    "3 \\alpha_3 t_1^2 + 2 \\alpha_2 t_1 + \\alpha_1 &= 0 \\\\\n",
    "\\alpha_3 \\frac{1}{4} (t_1^4 - t_0^4) + \\alpha_2 \\frac{1}{3} (t_1^3 - t_0^3)\n",
    "+ \\alpha_2 \\frac{1}{2} (t_1^2 - t_0^2) + \\alpha_1(t_1 - t_0) &= s_1\n",
    "\\end{align}$$\n",
    "\n",
    "In forma matriciale:\n",
    "\n",
    "$$\\left(\\begin{array}{ccc}\n",
    "t_0^3 & t_0^2 & t_0 & 1 \\\\\n",
    "t_1^3 & t_1^2 & t_1 & 1 \\\\\n",
    "3 t_1^2 & 2 t_1 & 1 & 0 \\\\\n",
    "\\frac{1}{4} (t_1^4 - t_0^4) & \\frac{1}{3} (t_1^3 - t_0^3) & \\frac{1}{2} (t_1^2 - t_0^2) & (t_1 - t_0)\n",
    "\\end{array}\\right)\n",
    "\\left(\\begin{array}{c}\n",
    "\\alpha_3 \\\\\n",
    "\\alpha_2 \\\\\n",
    "\\alpha_1 \\\\\n",
    "\\alpha_0\n",
    "\\end{array}\\right)\n",
    "=\n",
    "\\left(\\begin{array}{c}\n",
    "v_0 \\\\\n",
    "v_1 \\\\\n",
    "0 \\\\\n",
    "s_1\n",
    "\\end{array}\\right)\n",
    "$$"
   ]
  },
  {
   "cell_type": "markdown",
   "metadata": {
    "slideshow": {
     "slide_type": "-"
    }
   },
   "source": [
    "## Derivazione dei Coefficienti\n",
    "\n",
    "**Nel modulo `sol.brake`, si definisca la funzione:**\n",
    "\n",
    "```python\n",
    "def fit_curve(t0, t1, v0, v1, s1)\n",
    "```\n",
    "\n",
    "* Che restituisca le variabili necessarie a rappresentare i coefficienti\n",
    "\n",
    "**Si collaudi la classe nella cella seguente, utilizzando i valori suggeriti**"
   ]
  },
  {
   "cell_type": "code",
   "execution_count": 1,
   "metadata": {},
   "outputs": [],
   "source": [
    "%load_ext autoreload\n",
    "%autoreload 2\n",
    "\n",
    "from sol import brake\n",
    "\n",
    "# Dati del problema\n",
    "t0, t1 = 0, 2\n",
    "v0, v1 = 5.5, 0\n",
    "s1 = 3"
   ]
  },
  {
   "cell_type": "markdown",
   "metadata": {
    "slideshow": {
     "slide_type": "-"
    }
   },
   "source": [
    "## Disegnare la Curva\n",
    "\n",
    "**Nel modulo `sol.brake`, si definisca la funzione:**\n",
    "\n",
    "```python\n",
    "def draw_curve(alpha_3, alpha_2, alpha_1, alpha_0, t0, t1)\n",
    "```\n",
    "\n",
    "* Che disegni la curva\n",
    "* ...E che mostra come fossere necessari 4 coefficienti\n",
    "\n",
    "**Nella cella seguente si scriva una soluzione completa del problema**\n",
    "\n",
    "* Si ottengano i coefficienti della curva\n",
    "* ...E si proceda a disegnarla"
   ]
  },
  {
   "cell_type": "code",
   "execution_count": 2,
   "metadata": {},
   "outputs": [
    {
     "name": "stdout",
     "output_type": "stream",
     "text": [
      "The autoreload extension is already loaded. To reload it, use:\n",
      "  %reload_ext autoreload\n"
     ]
    }
   ],
   "source": [
    "%load_ext autoreload\n",
    "%autoreload 2\n",
    "\n",
    "from sol import brake\n",
    "\n",
    "# Dati del problema\n",
    "t0, t1 = 0, 2\n",
    "v0, v1 = 5.5, 0\n",
    "s1 = 3"
   ]
  }
 ],
 "metadata": {
  "celltoolbar": "Slideshow",
  "kernelspec": {
   "display_name": "Python 3 (ipykernel)",
   "language": "python",
   "name": "python3"
  },
  "language_info": {
   "codemirror_mode": {
    "name": "ipython",
    "version": 3
   },
   "file_extension": ".py",
   "mimetype": "text/x-python",
   "name": "python",
   "nbconvert_exporter": "python",
   "pygments_lexer": "ipython3",
   "version": "3.11.11"
  },
  "rise": {
   "center": false,
   "enable_chalkboard": true,
   "transition": "fade"
  }
 },
 "nbformat": 4,
 "nbformat_minor": 4
}
