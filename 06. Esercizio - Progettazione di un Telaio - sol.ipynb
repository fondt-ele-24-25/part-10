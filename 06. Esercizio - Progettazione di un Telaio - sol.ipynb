{
 "cells": [
  {
   "cell_type": "markdown",
   "metadata": {},
   "source": [
    "# Esercizio: Progettazione di un Telaio"
   ]
  },
  {
   "cell_type": "markdown",
   "metadata": {
    "slideshow": {
     "slide_type": "-"
    }
   },
   "source": [
    "## Contesto\n",
    "\n",
    "__Si vuole progettare un telaio per una bicicletta__\n",
    "\n",
    "La forma del telaio deve apparire come segue:\n",
    "\n",
    "<center>\n",
    "<img src=\"assets/frame.png\" width=\"45%\"/>\n",
    "</center>"
   ]
  },
  {
   "cell_type": "markdown",
   "metadata": {
    "slideshow": {
     "slide_type": "-"
    }
   },
   "source": [
    "**La forma del telaio è descritta da _due curve paraboliche_ $f_1$ ed $f_2$**\n",
    "\n",
    "Abbiamo quindi _due curve_, rispettivamente date da:\n",
    "\n",
    "$$\\begin{align}\n",
    "f_1(x) &= \\alpha_2 x^2 + \\alpha_1 x + \\alpha_0 \\\\\n",
    "f_2(x) &= \\beta_2 x^2 + \\beta_1 x + \\beta_0\n",
    "\\end{align}$$\n",
    "\n",
    "**Le due curve originano in un punto comune $(x_0 y_0)$**\n",
    "\n",
    "Pertanto possiamo imporre le condizioni:\n",
    "\n",
    "$$\\begin{align}\n",
    "\\alpha_2 x_0^2 + \\alpha_1 x_0 + \\alpha_0 &= y_0 \\\\\n",
    "\\beta_2 x_0^2 + \\beta_1 x_0 + \\beta_0 &= y_0\n",
    "\\end{align}$$\n",
    "\n",
    "**La curva $f_1$ deve passare per l'ancoraggio della sella in $(x_1, y_1)$**\n",
    "\n",
    "$$\n",
    "\\alpha_2 x_1^2 + \\alpha_1 x_1 + \\alpha_0 = y_1\n",
    "$$\n",
    "\n",
    "**La curva $f_2$ deve passare per l'ancoraggio dei pedali in $(x_2, y_2)$**\n",
    "\n",
    "$$\n",
    "\\beta_2 x_2^2 + \\beta_1 x_2 + \\beta_0 = y_2\n",
    "$$\n",
    "\n",
    "**Le due curve devono congiungersi in un punto $(x_3, y_3)$...**\n",
    "\n",
    "...Di cui _è nota solo la coordinata $x_3$_:\n",
    "\n",
    "$$\n",
    "\\alpha_2 x_3^2 + \\alpha_1 x_3 + \\alpha_0 = \\beta_2 x_3^2 + \\beta_1 x_3 + \\beta_0\n",
    "$$\n",
    "\n",
    "**Le derivate di $f_1$ in $x_0$ ed $f_2$ in $x_3$ devono essere uguali**\n",
    "\n",
    "$$\n",
    "2 \\alpha_2 x_0 + \\alpha_1 = 2 \\beta_2 x_3 + \\beta_1\n",
    "$$"
   ]
  },
  {
   "cell_type": "markdown",
   "metadata": {
    "slideshow": {
     "slide_type": "-"
    }
   },
   "source": [
    "## Formulazione del Sistema\n",
    "\n",
    "**Si formuli il problema di progettazione della curva**\n",
    "\n",
    "...Mediante una sistema di equazioni lineari\n",
    "\n",
    "* Si noti che ci sono _due condizioni che coinvolgono entrambe le curve_\n",
    "* Tali condizioni non possono essere formulate separatamente!\n",
    "* Occorrerà quindi definire un _unico_ sistema di equazioni lineari\n",
    "\n",
    "Si derivi quindi la sua formulazione matriciale"
   ]
  },
  {
   "cell_type": "markdown",
   "metadata": {},
   "source": [
    "Raccogliendo tutte le condizioni in un'unico sistema si ottiene:\n",
    "\n",
    "$$\\begin{align}\n",
    "\\alpha_2 x_0^2 + \\alpha_1 x_0 + \\alpha_0 &= y_0 \\\\\n",
    "\\beta_2 x_0^2 + \\beta_1 x_0 + \\beta_0 &= y_0 \\\\\n",
    "\\alpha_2 x_1^2 + \\alpha_1 x_1 + \\alpha_0 &= y_1 \\\\\n",
    "\\beta_2 x_2^2 + \\beta_1 x_2 + \\beta_0 &= y_2 \\\\\n",
    "\\alpha_2 x_3^2 + \\alpha_1 x_3 + \\alpha_0 - \\beta_2 x_3^2 - \\beta_1 x_3 - \\beta_0 &= 0 \\\\\n",
    "2 \\alpha_2 x_0 + \\alpha_1 - 2 \\beta_2 x_3 - \\beta_1 &= 0\n",
    "\\end{align}$$\n",
    "\n",
    "In forma matriciale:\n",
    "\n",
    "$$\\left(\\begin{array}{cccccc}\n",
    "x_0^2 & x_0 & 1 &      0 &    0 &  0 \\\\\n",
    "    0 &   0 & 0 &  x_0^2 &  x_0 &  1 \\\\\n",
    "x_1^2 & x_1 & 1 &      0 &    0 &  0 \\\\\n",
    "    0 &   0 & 0 &  x_2^2 &  x_2 &  1 \\\\\n",
    "x_3^2 & x_3 & 1 & -x_3^2 & -x_3 & -1 \\\\\n",
    "2 x_0 &   1 & 0 & -2 x_3 &   -1 &  0\n",
    "\\end{array}\\right)\n",
    "\\left(\\begin{array}{c}\n",
    "\\alpha_2 \\\\\n",
    "\\alpha_1 \\\\\n",
    "\\alpha_0 \\\\\n",
    "\\beta_2 \\\\\n",
    "\\beta_1 \\\\\n",
    "\\beta_0\n",
    "\\end{array}\\right)\n",
    "=\n",
    "\\left(\\begin{array}{c}\n",
    "y_0 \\\\\n",
    "y_0 \\\\\n",
    "y_1 \\\\\n",
    "y_2 \\\\\n",
    "0 \\\\\n",
    "0\n",
    "\\end{array}\\right)\n",
    "$$"
   ]
  },
  {
   "cell_type": "markdown",
   "metadata": {
    "slideshow": {
     "slide_type": "-"
    }
   },
   "source": [
    "## Determinazione dei Coefficienti\n",
    "\n",
    "**Nel modulo `sol.frame`, si definisca la funzione:**\n",
    "\n",
    "```python\n",
    "def fit_curve(x0, y0, x1, y1, x2, y2, x3)\n",
    "```\n",
    "\n",
    "* Che restituisca variabili raprpesentanti i coefficienti delle due curve\n",
    "  - I.e. `alpha2`, `alpha1` e `alpha0`, più `beta2`, `beta1` e `beta0`\n",
    "\n",
    "**Si collaudi la classe nella cella seguente, utilizzando i valori suggeriti**"
   ]
  },
  {
   "cell_type": "code",
   "execution_count": 4,
   "metadata": {},
   "outputs": [
    {
     "name": "stdout",
     "output_type": "stream",
     "text": [
      "The autoreload extension is already loaded. To reload it, use:\n",
      "  %reload_ext autoreload\n",
      "alpha2 = -0.910, alpha1 = 1.239, alpha0 = 0.000\n",
      "beta2 = 0.910, beta1 = -0.762, beta0 = 0.000\n"
     ]
    }
   ],
   "source": [
    "%load_ext autoreload\n",
    "%autoreload 2\n",
    "\n",
    "from sol import frame\n",
    "\n",
    "# Dati del problema\n",
    "x0, y0 = 0, 0\n",
    "x1, y1 = 0.4, 0.35\n",
    "x2, y2 = 0.6, -0.13\n",
    "x3 = 1.1\n",
    "\n",
    "alpha2, alpha1, alpha0, beta2, beta1, beta0 = frame.fit_curve(x0, y0, x1, y1, x2, y2, x3)\n",
    "print(f'alpha2 = {alpha2:.3f}, alpha1 = {alpha1:.3f}, alpha0 = {alpha0:.3f}')\n",
    "print(f'beta2 = {beta2:.3f}, beta1 = {beta1:.3f}, beta0 = {beta0:.3f}')"
   ]
  },
  {
   "cell_type": "markdown",
   "metadata": {
    "slideshow": {
     "slide_type": "-"
    }
   },
   "source": [
    "## Disegnare le Curve\n",
    "\n",
    "**Nel modulo `sol.frame`, si definisca la funzione:**\n",
    "\n",
    "```python\n",
    "def draw_curve(alpha2, alpha1, alpha0, beta2, beta1, beta0, x0, x3)\n",
    "```\n",
    "\n",
    "* Che disegni le due curve\n",
    "\n",
    "**Nella cella seguente si scriva una soluzione completa del problema**\n",
    "\n",
    "* Si ottengano i coefficienti della curva\n",
    "* ...E si proceda a disegnarla"
   ]
  },
  {
   "cell_type": "code",
   "execution_count": 6,
   "metadata": {},
   "outputs": [
    {
     "name": "stdout",
     "output_type": "stream",
     "text": [
      "The autoreload extension is already loaded. To reload it, use:\n",
      "  %reload_ext autoreload\n",
      "alpha2 = -0.910, alpha1 = 1.239, alpha0 = 0.000\n",
      "beta2 = 0.910, beta1 = -0.762, beta0 = 0.000\n"
     ]
    },
    {
     "data": {
      "image/png": "[encoded data removed]",
      "text/plain": [
       "<Figure size 2000x500 with 1 Axes>"
      ]
     },
     "metadata": {},
     "output_type": "display_data"
    }
   ],
   "source": [
    "%load_ext autoreload\n",
    "%autoreload 2\n",
    "\n",
    "from sol import frame\n",
    "\n",
    "# Dati del problema\n",
    "x0, y0 = 0, 0\n",
    "x1, y1 = 0.4, 0.35\n",
    "x2, y2 = 0.6, -0.13\n",
    "x3 = 1.1\n",
    "\n",
    "alpha2, alpha1, alpha0, beta2, beta1, beta0 = frame.fit_curve(x0, y0, x1, y1, x2, y2, x3)\n",
    "print(f'alpha2 = {alpha2:.3f}, alpha1 = {alpha1:.3f}, alpha0 = {alpha0:.3f}')\n",
    "print(f'beta2 = {beta2:.3f}, beta1 = {beta1:.3f}, beta0 = {beta0:.3f}')\n",
    "frame.draw_curve(alpha2, alpha1, alpha0, beta2, beta1, beta0, x0, x3)"
   ]
  }
 ],
 "metadata": {
  "celltoolbar": "Slideshow",
  "kernelspec": {
   "display_name": "Python 3 (ipykernel)",
   "language": "python",
   "name": "python3"
  },
  "language_info": {
   "codemirror_mode": {
    "name": "ipython",
    "version": 3
   },
   "file_extension": ".py",
   "mimetype": "text/x-python",
   "name": "python",
   "nbconvert_exporter": "python",
   "pygments_lexer": "ipython3",
   "version": "3.10.10"
  },
  "rise": {
   "center": false,
   "enable_chalkboard": true,
   "transition": "fade"
  }
 },
 "nbformat": 4,
 "nbformat_minor": 4
}
